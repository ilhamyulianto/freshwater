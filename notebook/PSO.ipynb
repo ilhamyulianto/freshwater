{
 "cells": [
  {
   "cell_type": "code",
   "execution_count": 1,
   "metadata": {},
   "outputs": [],
   "source": [
    "import random\n",
    "import numpy as np"
   ]
  },
  {
   "cell_type": "code",
   "execution_count": 2,
   "metadata": {},
   "outputs": [],
   "source": [
    "import random\n",
    "import numpy as np\n",
    "\n",
    "\n",
    "def calculate_z(n, x):\n",
    "    return sum(n_i * x_i for n_i, x_i in zip(n, x))\n",
    "\n",
    "\n",
    "def is_valid(n, M, a, b, c, d):\n",
    "    n1, n2, n3, n4 = n\n",
    "    n4_lower_bound = max(0, d - (n1 - a + n2 - b + n3 - c))\n",
    "    n4_upper_bound = M - (n1 - a + n2 - b + n3 - c)\n",
    "    return (a <= n1 <= M and\n",
    "            (b - (n1 - a)) <= n2 <= M - (n1 - a) and\n",
    "            (c - (n1 - a + n2 - b)) <= n3 <= M - (n1 - a + n2 - b) and\n",
    "            n4_lower_bound <= n4 <= n4_upper_bound and\n",
    "            sum(n) == a + b + c + d)\n"
   ]
  },
  {
   "cell_type": "markdown",
   "metadata": {},
   "source": [
    "## unused"
   ]
  },
  {
   "cell_type": "markdown",
   "metadata": {},
   "source": [
    "Fungsi calculate_z(n, x) digunakan untuk menghitung nilai objektif (fitness) dari suatu solusi atau partikel. Nilai ini merupakan hasil perkalian antara jumlah unit dari masing-masing item (n1, n2, n3, n4) dengan harga satuannya (x1, x2, x3, x4), kemudian dijumlahkan untuk mendapatkan total biaya atau nilai Z yang ingin diminimalkan atau dimaksimalkan."
   ]
  },
  {
   "cell_type": "code",
   "execution_count": 3,
   "metadata": {},
   "outputs": [],
   "source": [
    "\n",
    "def generate_random_solution(M, a, b, c, d):\n",
    "    while True:\n",
    "        n1 = random.randint(a, M)\n",
    "        n2 = random.randint(max(b - (n1 - a), 0), M - (n1 - a))\n",
    "        n3 = random.randint(max(c - (n1 - a + n2 - b), 0), M - (n1 - a + n2 - b))\n",
    "        n4 = (a + b + c + d) - n1 - n2 - n3\n",
    "        if is_valid([n1, n2, n3, n4], M, a, b, c, d):\n",
    "            return [n1, n2, n3, n4]\n",
    "\n",
    "\n",
    "def particle_swarm_optimization(x, M, a, b, c, d, num_particles=50, num_iterations=100, w=0.5, c1=1.5, c2=1.5):\n",
    "    \n",
    "    particles = [generate_random_solution(M, a, b, c, d) for _ in range(num_particles)]\n",
    "    velocities = [np.random.uniform(-1, 1, 4) for _ in range(num_particles)]\n",
    "    personal_best_positions = particles.copy()\n",
    "    personal_best_scores = [calculate_z(p, x) for p in particles]\n",
    "    global_best_position = min(particles, key=lambda p: calculate_z(p, x))\n",
    "    global_best_score = calculate_z(global_best_position, x)\n",
    "\n",
    "    for _ in range(num_iterations):\n",
    "        for i, particle in enumerate(particles):\n",
    "            velocities[i] = (w * velocities[i] +\n",
    "                             c1 * random.random() * (np.array(personal_best_positions[i]) - np.array(particle)) +\n",
    "                             c2 * random.random() * (np.array(global_best_position) - np.array(particle)))\n",
    "            new_position = np.array(particle) + velocities[i]\n",
    "            new_position = [int(np.clip(new_position[j], a if j == 0 else max(b - (M + particle[0] - a), 0) if j == 1 else max(c - (M + particle[1] - b), 0) if j == 2 else 0, M)) for j in range(4)]\n",
    "            new_position[3] = (a + b + c + d) - sum(new_position[:3])\n",
    "\n",
    "            if is_valid(new_position, M, a, b, c, d):\n",
    "                particles[i] = new_position\n",
    "                current_score = calculate_z(new_position, x)\n",
    "                if current_score < personal_best_scores[i]:\n",
    "                    personal_best_positions[i] = new_position\n",
    "                    personal_best_scores[i] = current_score\n",
    "                if current_score < global_best_score:\n",
    "                    global_best_position = new_position\n",
    "                    global_best_score = current_score\n",
    "\n",
    "    return global_best_position, global_best_score\n"
   ]
  },
  {
   "cell_type": "code",
   "execution_count": 5,
   "metadata": {},
   "outputs": [
    {
     "name": "stdout",
     "output_type": "stream",
     "text": [
      "PSO - Nilai n1 terbaik: 18524\n",
      "PSO - Nilai n2 terbaik: 29000\n",
      "PSO - Nilai n3 terbaik: 2901\n",
      "PSO - Nilai n4 terbaik: 0\n",
      "PSO - Nilai z terkecil: 1700891\n"
     ]
    }
   ],
   "source": [
    "\n",
    "x = [40, 30, 31, 40]\n",
    "M = 29000\n",
    "a = 18524\n",
    "b = 7937\n",
    "c = 8043\n",
    "d = 15921\n",
    "\n",
    "best_solution, best_z = particle_swarm_optimization(x, M, a, b, c, d)\n",
    "\n",
    "if best_solution:\n",
    "    best_n1, best_n2, best_n3, best_n4 = best_solution\n",
    "    print(f\"PSO - Nilai n1 terbaik: {best_n1}\")\n",
    "    print(f\"PSO - Nilai n2 terbaik: {best_n2}\")\n",
    "    print(f\"PSO - Nilai n3 terbaik: {best_n3}\")\n",
    "    print(f\"PSO - Nilai n4 terbaik: {best_n4}\")\n",
    "    print(f\"PSO - Nilai z terkecil: {best_z}\")\n",
    "else:\n",
    "    print(\"Tidak ditemukan solusi yang valid.\")\n"
   ]
  },
  {
   "cell_type": "code",
   "execution_count": 6,
   "metadata": {},
   "outputs": [
    {
     "name": "stdout",
     "output_type": "stream",
     "text": [
      "Total harga perbekalan: 39\n",
      "Bekal yang harus dibeli di tiap tempat:\n",
      "Tempat 1: 3 unit\n",
      "Tempat 2: 1 unit\n",
      "Tempat 3: 4 unit\n",
      "Tempat 4: 2 unit\n"
     ]
    }
   ],
   "source": [
    "def optimasi_harga_perbekalan(a, x, C):\n",
    "    n = len(a)  # Jumlah tempat yang disinggahi\n",
    "    M = sum(x)  # Total kebutuhan bekal\n",
    "    total_harga = 0  # Variabel untuk menyimpan total harga perbekalan\n",
    "    sisa_bekal = 0  # Variabel untuk menyimpan bekal yang tersisa\n",
    "    bekal_di_beli = [0] * n  # List untuk menyimpan jumlah bekal yang dibeli di tiap tempat\n",
    "\n",
    "    for i in range(n):\n",
    "        # Hitung berapa banyak bekal yang dapat dibeli dengan memperhatikan kapasitas maksimal\n",
    "        bekal_yang_dibutuhkan = x[i]\n",
    "        bekal_yang_dapat_dibeli = min(C - sisa_bekal, bekal_yang_dibutuhkan)\n",
    "        \n",
    "        # Tambahkan jumlah bekal yang dibeli ke total sisa bekal\n",
    "        sisa_bekal += bekal_yang_dapat_dibeli\n",
    "        \n",
    "        # Simpan jumlah bekal yang dibeli di tempat ini\n",
    "        bekal_di_beli[i] = bekal_yang_dapat_dibeli\n",
    "\n",
    "        # Tambahkan biaya bekal yang dibeli ke total harga\n",
    "        total_harga += bekal_di_beli[i] * a[i]\n",
    "\n",
    "        # Kurangi sisa bekal dengan bekal yang dibutuhkan\n",
    "        sisa_bekal -= bekal_yang_dibutuhkan\n",
    "\n",
    "        # Pastikan sisa bekal tidak melebihi kapasitas\n",
    "        sisa_bekal = min(sisa_bekal, C)\n",
    "\n",
    "    return total_harga, bekal_di_beli\n",
    "\n",
    "# Contoh penggunaan\n",
    "a = [5, 2, 4, 3]  # Daftar harga perbekalan di tiap tempat\n",
    "x = [3, 1, 4, 2]  # Kebutuhan bekal dari satu tempat ke tempat berikutnya\n",
    "C = 10  # Kapasitas maksimal bekal yang dapat dibawa\n",
    "\n",
    "total_harga, bekal_di_beli = optimasi_harga_perbekalan(a, x, C)\n",
    "\n",
    "print(f\"Total harga perbekalan: {total_harga}\")\n",
    "print(\"Bekal yang harus dibeli di tiap tempat:\")\n",
    "for i in range(len(a)):\n",
    "    print(f\"Tempat {i+1}: {bekal_di_beli[i]} unit\")\n"
   ]
  },
  {
   "cell_type": "code",
   "execution_count": 7,
   "metadata": {},
   "outputs": [],
   "source": [
    "import random\n",
    "import numpy as np\n",
    "\n",
    "# Fungsi untuk menghitung nilai z\n",
    "def calculate_z(n, x):\n",
    "    return np.dot(n, x)\n",
    "\n",
    "# Fungsi untuk memeriksa apakah nilai n memenuhi batasan\n",
    "def is_valid(n, M, constraints):\n",
    "    n_sum = sum(n)\n",
    "    constraints_sum = sum(constraints)\n",
    "    if n_sum != constraints_sum:\n",
    "        return False\n",
    "\n",
    "    n_accum = 0\n",
    "    for i in range(len(constraints)):\n",
    "        n_accum += n[i] - constraints[i]\n",
    "        if not (0 <= n_accum <= M):\n",
    "            return False\n",
    "    return True"
   ]
  },
  {
   "cell_type": "code",
   "execution_count": 8,
   "metadata": {},
   "outputs": [],
   "source": [
    "def generate_random_solution(M, constraints):\n",
    "    num_vars = len(constraints)\n",
    "    while True:\n",
    "        n = [random.randint(constraints[i], M) for i in range(num_vars)]\n",
    "        n[-1] = sum(constraints) - sum(n[:-1])\n",
    "        if is_valid(n, M, constraints):\n",
    "            return n"
   ]
  },
  {
   "cell_type": "code",
   "execution_count": 9,
   "metadata": {},
   "outputs": [],
   "source": [
    "# Fungsi untuk menjalankan algoritma PSO\n",
    "def particle_swarm_optimization(x, M, constraints, num_particles=50, num_iterations=100, w=0.5, c1=1.5, c2=1.5):\n",
    "    num_vars = len(constraints)\n",
    "    \n",
    "    # Inisialisasi partikel\n",
    "    particles = [generate_random_solution(M, constraints) for _ in range(num_particles)]\n",
    "    velocities = [np.random.uniform(-1, 1, num_vars) for _ in range(num_particles)]\n",
    "    personal_best_positions = particles.copy()\n",
    "    personal_best_scores = [calculate_z(p, x) for p in particles]\n",
    "    global_best_position = min(particles, key=lambda p: calculate_z(p, x))\n",
    "    global_best_score = calculate_z(global_best_position, x)\n",
    "\n",
    "    for _ in range(num_iterations):\n",
    "        for i, particle in enumerate(particles):\n",
    "            r1, r2 = random.random(), random.random()\n",
    "            velocities[i] = (w * velocities[i] +\n",
    "                             c1 * r1 * (np.array(personal_best_positions[i]) - np.array(particle)) +\n",
    "                             c2 * r2 * (np.array(global_best_position) - np.array(particle)))\n",
    "            new_position = np.array(particle) + velocities[i]\n",
    "            new_position = [int(np.clip(new_position[j], constraints[j], M)) for j in range(num_vars)]\n",
    "            new_position[-1] = sum(constraints) - sum(new_position[:-1])\n",
    "\n",
    "            if is_valid(new_position, M, constraints):\n",
    "                particles[i] = new_position\n",
    "                current_score = calculate_z(new_position, x)\n",
    "                if current_score < personal_best_scores[i]:\n",
    "                    personal_best_positions[i] = new_position\n",
    "                    personal_best_scores[i] = current_score\n",
    "                if current_score < global_best_score:\n",
    "                    global_best_position = new_position\n",
    "                    global_best_score = current_score\n",
    "\n",
    "    return global_best_position, global_best_score"
   ]
  },
  {
   "cell_type": "code",
   "execution_count": 13,
   "metadata": {},
   "outputs": [
    {
     "name": "stdout",
     "output_type": "stream",
     "text": [
      "PSO - Nilai n1 terbaik: 18524\n",
      "PSO - Nilai n2 terbaik: 29000\n",
      "PSO - Nilai n3 terbaik: 15980\n",
      "PSO - Nilai n4 terbaik: -13079\n",
      "PSO - Nilai z terkecil: 1583180\n"
     ]
    }
   ],
   "source": [
    "x = [40, 30, 31, 40]\n",
    "M = 29000\n",
    "constraints = [18524, 7937, 8043, 15921]\n",
    "\n",
    "# Temukan nilai n terbaik\n",
    "best_solution, best_z = particle_swarm_optimization(x, M, constraints)\n",
    "\n",
    "if best_solution:\n",
    "    for idx, val in enumerate(best_solution):\n",
    "        print(f\"PSO - Nilai n{idx + 1} terbaik: {val}\")\n",
    "    print(f\"PSO - Nilai z terkecil: {best_z}\")\n",
    "else:\n",
    "    print(\"Tidak ditemukan solusi yang valid.\")"
   ]
  },
  {
   "cell_type": "markdown",
   "metadata": {},
   "source": [
    "## primary"
   ]
  },
  {
   "cell_type": "code",
   "execution_count": 7,
   "metadata": {},
   "outputs": [
    {
     "name": "stdout",
     "output_type": "stream",
     "text": [
      "PSO - Nilai n1 terbaik: 6578\n",
      "PSO - Nilai n2 terbaik: 974\n",
      "PSO - Nilai n3 terbaik: 10219\n",
      "PSO - Nilai n4 terbaik: 0\n",
      "PSO - Nilai z terkecil: 457986\n"
     ]
    }
   ],
   "source": [
    "import random\n",
    "import numpy as np\n",
    "\n",
    "# Fungsi untuk menghitung nilai z\n",
    "def calculate_z(n, x):\n",
    "    return np.dot(n, x)\n",
    "\n",
    "# Fungsi untuk memeriksa apakah nilai n memenuhi batasan\n",
    "def is_valid(n, M, constraints):\n",
    "    n_sum = sum(n)\n",
    "    constraints_sum = sum(constraints)\n",
    "    if n_sum != constraints_sum:\n",
    "        return False\n",
    "\n",
    "    n_accum = 0\n",
    "    for i in range(len(constraints)):\n",
    "        n_accum += n[i] - constraints[i]\n",
    "        if not (0 <= n_accum <= M):\n",
    "            return False\n",
    "    return True\n",
    "\n",
    "# Fungsi untuk menghasilkan solusi acak yang valid\n",
    "def generate_random_solution(M, constraints):\n",
    "    num_vars = len(constraints)\n",
    "    while True:\n",
    "        n = [random.randint(constraints[i], M) for i in range(num_vars - 1)]\n",
    "        n_sum = sum(n)\n",
    "        n_last = sum(constraints) - n_sum\n",
    "        if n_last >= 0:\n",
    "            n.append(n_last)\n",
    "            if is_valid(n, M, constraints):\n",
    "                return n\n",
    "\n",
    "# Fungsi untuk menjalankan algoritma PSO\n",
    "def particle_swarm_optimization(x, M, constraints, num_particles=50, num_iterations=100, w=0.5, c1=1.5, c2=1.5):\n",
    "    num_vars = len(constraints)\n",
    "    \n",
    "    # Inisialisasi partikel\n",
    "    particles = [generate_random_solution(M, constraints) for _ in range(num_particles)]\n",
    "    velocities = [np.random.uniform(-1, 1, num_vars) for _ in range(num_particles)]\n",
    "    personal_best_positions = particles.copy()\n",
    "    personal_best_scores = [calculate_z(p, x) for p in particles]\n",
    "    global_best_position = min(particles, key=lambda p: calculate_z(p, x))\n",
    "    global_best_score = calculate_z(global_best_position, x)\n",
    "\n",
    "    for _ in range(num_iterations):\n",
    "        for i, particle in enumerate(particles):\n",
    "            r1, r2 = random.random(), random.random()\n",
    "            velocities[i] = (w * velocities[i] +\n",
    "                             c1 * r1 * (np.array(personal_best_positions[i]) - np.array(particle)) +\n",
    "                             c2 * r2 * (np.array(global_best_position) - np.array(particle)))\n",
    "            new_position = np.array(particle) + velocities[i]\n",
    "            new_position = [int(np.clip(new_position[j], 0, M)) for j in range(num_vars)]\n",
    "            new_position[-1] = sum(constraints) - sum(new_position[:-1])\n",
    "\n",
    "            if new_position[-1] >= 0 and is_valid(new_position, M, constraints):\n",
    "                particles[i] = new_position\n",
    "                current_score = calculate_z(new_position, x)\n",
    "                if current_score < personal_best_scores[i]:\n",
    "                    personal_best_positions[i] = new_position\n",
    "                    personal_best_scores[i] = current_score\n",
    "                if current_score < global_best_score:\n",
    "                    global_best_position = new_position\n",
    "                    global_best_score = current_score\n",
    "\n",
    "    return global_best_position, global_best_score\n",
    "\n",
    "# Nilai yang diberikan (inputan)\n",
    "x = [35, 24, 20, 35] # Harga fw pada setiap ports\n",
    "M = 27000 # tank\n",
    "constraints = [6412, 1140, 3394, 6825] # Kebutuhan (fwneeds)\n",
    "\n",
    "# Temukan nilai n terbaik\n",
    "best_solution, best_z = particle_swarm_optimization(x, M, constraints)\n",
    "\n",
    "if best_solution:\n",
    "    for idx, val in enumerate(best_solution):\n",
    "        print(f\"PSO - Nilai n{idx + 1} terbaik: {val}\")\n",
    "    print(f\"PSO - Nilai z terkecil: {best_z}\")\n",
    "else:\n",
    "    print(\"Tidak ditemukan solusi yang valid.\")\n"
   ]
  }
 ],
 "metadata": {
  "kernelspec": {
   "display_name": "vision1",
   "language": "python",
   "name": "python3"
  },
  "language_info": {
   "codemirror_mode": {
    "name": "ipython",
    "version": 3
   },
   "file_extension": ".py",
   "mimetype": "text/x-python",
   "name": "python",
   "nbconvert_exporter": "python",
   "pygments_lexer": "ipython3",
   "version": "3.10.13"
  }
 },
 "nbformat": 4,
 "nbformat_minor": 2
}
