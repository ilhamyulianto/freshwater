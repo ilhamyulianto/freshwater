{
 "cells": [
  {
   "cell_type": "markdown",
   "metadata": {},
   "source": [
    "# Linear Regression, KNN Regressor, XGBoost"
   ]
  },
  {
   "cell_type": "code",
   "execution_count": 1,
   "metadata": {},
   "outputs": [],
   "source": [
    "import pandas as pd\n",
    "from sklearn.model_selection import train_test_split\n",
    "from sklearn.preprocessing import StandardScaler\n",
    "from sklearn.linear_model import LinearRegression\n",
    "from sklearn.neighbors import KNeighborsRegressor\n",
    "import xgboost as xgb\n",
    "from sklearn.metrics import mean_squared_error\n",
    "import matplotlib.pyplot as plt\n",
    "import joblib\n",
    "import tensorflow as tf\n",
    "from tensorflow.keras.models import Sequential\n",
    "from tensorflow.keras.layers import Dense, Dropout\n",
    "from tensorflow.keras.callbacks import EarlyStopping"
   ]
  },
  {
   "cell_type": "code",
   "execution_count": 2,
   "metadata": {},
   "outputs": [],
   "source": [
    "df = pd.read_excel('../data/freshwater_datamaster.xlsx', sheet_name='main')\n",
    "df = df[['SHIP-ROUTE','DISTANCE', 'FRESH_WATER']]"
   ]
  },
  {
   "cell_type": "code",
   "execution_count": 3,
   "metadata": {},
   "outputs": [
    {
     "data": {
      "image/png": "[encoded data removed]",
      "text/plain": [
       "<Figure size 640x480 with 1 Axes>"
      ]
     },
     "metadata": {},
     "output_type": "display_data"
    }
   ],
   "source": [
    "import seaborn as sns\n",
    "sns.boxplot(data=df, y='FRESH_WATER')\n",
    "plt.title(\"Distribusi data konsumsi fw\")\n",
    "plt.show()\n"
   ]
  },
  {
   "cell_type": "code",
   "execution_count": 4,
   "metadata": {},
   "outputs": [
    {
     "name": "stdout",
     "output_type": "stream",
     "text": [
      "['SHIP-ROUTE', 'DISTANCE', 'FRESH_WATER']\n"
     ]
    }
   ],
   "source": [
    "print(df.columns.tolist())"
   ]
  },
  {
   "cell_type": "code",
   "execution_count": 5,
   "metadata": {},
   "outputs": [
    {
     "name": "stdout",
     "output_type": "stream",
     "text": [
      "['SHIP_ROUTE', 'DISTANCE', 'FRESH_WATER']\n"
     ]
    }
   ],
   "source": [
    "df = df.rename(columns={'SHIP-ROUTE': 'SHIP_ROUTE'})\n",
    "print(df.columns.tolist())"
   ]
  },
  {
   "cell_type": "code",
   "execution_count": 6,
   "metadata": {},
   "outputs": [],
   "source": [
    "df_encoded = pd.get_dummies(df, columns=['SHIP_ROUTE'])"
   ]
  },
  {
   "cell_type": "code",
   "execution_count": 7,
   "metadata": {},
   "outputs": [],
   "source": [
    "X = df_encoded.drop(columns=['FRESH_WATER'])\n",
    "y = df_encoded['FRESH_WATER']\n"
   ]
  },
  {
   "cell_type": "code",
   "execution_count": 8,
   "metadata": {},
   "outputs": [],
   "source": [
    "X_train, X_test, y_train, y_test = train_test_split(X, y, test_size=0.2, random_state=42)\n"
   ]
  },
  {
   "cell_type": "markdown",
   "metadata": {},
   "source": [
    "### XGBoost"
   ]
  },
  {
   "cell_type": "code",
   "execution_count": 9,
   "metadata": {},
   "outputs": [
    {
     "name": "stdout",
     "output_type": "stream",
     "text": [
      "[0]\tvalidation-rmse:3616.94911\n",
      "[1]\tvalidation-rmse:2826.19272\n",
      "[2]\tvalidation-rmse:2231.24026\n",
      "[3]\tvalidation-rmse:1803.87557\n",
      "[4]\tvalidation-rmse:1498.24915\n",
      "[5]\tvalidation-rmse:1283.82676\n",
      "[6]\tvalidation-rmse:1134.71071\n",
      "[7]\tvalidation-rmse:1034.07603\n",
      "[8]\tvalidation-rmse:971.30364\n",
      "[9]\tvalidation-rmse:932.47071\n",
      "[10]\tvalidation-rmse:909.62895\n",
      "[11]\tvalidation-rmse:890.83741\n",
      "[12]\tvalidation-rmse:869.12210\n",
      "[13]\tvalidation-rmse:861.43860\n",
      "[14]\tvalidation-rmse:855.35960\n",
      "[15]\tvalidation-rmse:849.40886\n",
      "[16]\tvalidation-rmse:844.00351\n",
      "[17]\tvalidation-rmse:845.13701\n",
      "[18]\tvalidation-rmse:842.57735\n",
      "[19]\tvalidation-rmse:840.86641\n",
      "[20]\tvalidation-rmse:837.89746\n",
      "[21]\tvalidation-rmse:837.78656\n",
      "[22]\tvalidation-rmse:836.24031\n",
      "[23]\tvalidation-rmse:834.57340\n",
      "[24]\tvalidation-rmse:833.50730\n",
      "[25]\tvalidation-rmse:830.80954\n",
      "[26]\tvalidation-rmse:831.76395\n",
      "[27]\tvalidation-rmse:831.80398\n",
      "[28]\tvalidation-rmse:831.88494\n",
      "[29]\tvalidation-rmse:831.85928\n",
      "[30]\tvalidation-rmse:831.90804\n",
      "[31]\tvalidation-rmse:829.08628\n",
      "[32]\tvalidation-rmse:828.70501\n",
      "[33]\tvalidation-rmse:828.39461\n",
      "[34]\tvalidation-rmse:829.07852\n",
      "[35]\tvalidation-rmse:830.68227\n",
      "[36]\tvalidation-rmse:830.30164\n",
      "[37]\tvalidation-rmse:829.64977\n",
      "[38]\tvalidation-rmse:829.19064\n",
      "[39]\tvalidation-rmse:828.38606\n",
      "[40]\tvalidation-rmse:829.50377\n",
      "[41]\tvalidation-rmse:828.47119\n",
      "[42]\tvalidation-rmse:828.41808\n",
      "[43]\tvalidation-rmse:829.99746\n",
      "[44]\tvalidation-rmse:829.80374\n",
      "[45]\tvalidation-rmse:829.94171\n",
      "[46]\tvalidation-rmse:828.95717\n",
      "[47]\tvalidation-rmse:828.62401\n",
      "[48]\tvalidation-rmse:828.47278\n",
      "[49]\tvalidation-rmse:828.64886\n",
      "[50]\tvalidation-rmse:829.73966\n",
      "[51]\tvalidation-rmse:829.91783\n",
      "[52]\tvalidation-rmse:829.28919\n",
      "[53]\tvalidation-rmse:830.07882\n",
      "[54]\tvalidation-rmse:829.83968\n",
      "[55]\tvalidation-rmse:830.37289\n",
      "[56]\tvalidation-rmse:829.66018\n",
      "[57]\tvalidation-rmse:829.33665\n",
      "[58]\tvalidation-rmse:829.61087\n",
      "[59]\tvalidation-rmse:829.58040\n",
      "[60]\tvalidation-rmse:829.18914\n",
      "[61]\tvalidation-rmse:829.27953\n",
      "[62]\tvalidation-rmse:829.18858\n",
      "[63]\tvalidation-rmse:829.17106\n",
      "[64]\tvalidation-rmse:829.38857\n",
      "[65]\tvalidation-rmse:828.96327\n",
      "[66]\tvalidation-rmse:829.91904\n",
      "[67]\tvalidation-rmse:829.90114\n",
      "[68]\tvalidation-rmse:830.67099\n",
      "[69]\tvalidation-rmse:830.95959\n",
      "[70]\tvalidation-rmse:830.98928\n",
      "[71]\tvalidation-rmse:830.86667\n",
      "[72]\tvalidation-rmse:830.53413\n",
      "[73]\tvalidation-rmse:830.16422\n",
      "[74]\tvalidation-rmse:829.90717\n",
      "[75]\tvalidation-rmse:829.99502\n",
      "[76]\tvalidation-rmse:830.59478\n",
      "[77]\tvalidation-rmse:830.69021\n",
      "[78]\tvalidation-rmse:832.36091\n",
      "[79]\tvalidation-rmse:832.34878\n",
      "[80]\tvalidation-rmse:832.20795\n",
      "[81]\tvalidation-rmse:832.29327\n",
      "[82]\tvalidation-rmse:832.14167\n",
      "[83]\tvalidation-rmse:832.27458\n",
      "[84]\tvalidation-rmse:832.22613\n",
      "[85]\tvalidation-rmse:832.22069\n",
      "[86]\tvalidation-rmse:832.60183\n",
      "[87]\tvalidation-rmse:832.56789\n",
      "[88]\tvalidation-rmse:832.27567\n",
      "[89]\tvalidation-rmse:832.35725\n",
      "MSE: 692818.5979629868\n"
     ]
    }
   ],
   "source": [
    "\n",
    "# Apply Standard Scaling\n",
    "from sklearn.preprocessing import StandardScaler\n",
    "import joblib\n",
    "\n",
    "# Initialize the scaler\n",
    "scaler = StandardScaler()\n",
    "\n",
    "# Fit and transform the training data\n",
    "X_train_scaled = scaler.fit_transform(X_train)\n",
    "\n",
    "# Transform the test data\n",
    "X_test_scaled = scaler.transform(X_test)\n",
    "\n",
    "# Save the scaler\n",
    "joblib.dump(scaler, '../models/scalerdummy.pkl')\n",
    "\n",
    "# Convert to DMatrix using scaled data\n",
    "dtrain = xgb.DMatrix(X_train_scaled, label=y_train)\n",
    "dtest = xgb.DMatrix(X_test_scaled, label=y_test)\n",
    "\n",
    "\n",
    "import xgboost as xgb\n",
    "from sklearn.metrics import mean_squared_error\n",
    "\n",
    "\n",
    "dtrain = xgb.DMatrix(X_train, label=y_train)\n",
    "dvalid = xgb.DMatrix(X_test, label=y_test)\n",
    "\n",
    "\n",
    "params = {\n",
    "    'objective': 'reg:squarederror',\n",
    "    'learning_rate': 0.25,\n",
    "    'max_depth': 8,\n",
    "    'seed': 200,\n",
    "    'eval_metric': 'rmse'\n",
    "}\n",
    "\n",
    "\n",
    "xgb_model = xgb.train(\n",
    "    params,\n",
    "    dtrain,\n",
    "    num_boost_round=15000,\n",
    "    evals=[(dvalid, \"validation\")],\n",
    "    early_stopping_rounds=50,\n",
    "    verbose_eval=True\n",
    ")\n",
    "\n",
    "\n",
    "y_pred = xgb_model.predict(dvalid)\n",
    "mse = mean_squared_error(y_test, y_pred)\n",
    "print(f\"MSE: {mse}\")\n"
   ]
  },
  {
   "cell_type": "markdown",
   "metadata": {},
   "source": [
    "### Test"
   ]
  },
  {
   "cell_type": "code",
   "execution_count": 10,
   "metadata": {},
   "outputs": [],
   "source": [
    "import numpy as np"
   ]
  },
  {
   "cell_type": "code",
   "execution_count": 19,
   "metadata": {},
   "outputs": [
    {
     "name": "stdout",
     "output_type": "stream",
     "text": [
      "Predicted Fresh Water Consumption: 7746.99 liters\n"
     ]
    },
    {
     "name": "stderr",
     "output_type": "stream",
     "text": [
      "C:\\Users\\ilham\\AppData\\Local\\Temp\\ipykernel_50284\\1348943667.py:5: PerformanceWarning: DataFrame is highly fragmented.  This is usually the result of calling `frame.insert` many times, which has poor performance.  Consider joining all columns at once using pd.concat(axis=1) instead. To get a de-fragmented frame, use `newframe = frame.copy()`\n",
      "  test_df[col] = 0\n",
      "C:\\Users\\ilham\\AppData\\Local\\Temp\\ipykernel_50284\\1348943667.py:5: PerformanceWarning: DataFrame is highly fragmented.  This is usually the result of calling `frame.insert` many times, which has poor performance.  Consider joining all columns at once using pd.concat(axis=1) instead. To get a de-fragmented frame, use `newframe = frame.copy()`\n",
      "  test_df[col] = 0\n",
      "C:\\Users\\ilham\\AppData\\Local\\Temp\\ipykernel_50284\\1348943667.py:5: PerformanceWarning: DataFrame is highly fragmented.  This is usually the result of calling `frame.insert` many times, which has poor performance.  Consider joining all columns at once using pd.concat(axis=1) instead. To get a de-fragmented frame, use `newframe = frame.copy()`\n",
      "  test_df[col] = 0\n",
      "C:\\Users\\ilham\\AppData\\Local\\Temp\\ipykernel_50284\\1348943667.py:5: PerformanceWarning: DataFrame is highly fragmented.  This is usually the result of calling `frame.insert` many times, which has poor performance.  Consider joining all columns at once using pd.concat(axis=1) instead. To get a de-fragmented frame, use `newframe = frame.copy()`\n",
      "  test_df[col] = 0\n",
      "C:\\Users\\ilham\\AppData\\Local\\Temp\\ipykernel_50284\\1348943667.py:5: PerformanceWarning: DataFrame is highly fragmented.  This is usually the result of calling `frame.insert` many times, which has poor performance.  Consider joining all columns at once using pd.concat(axis=1) instead. To get a de-fragmented frame, use `newframe = frame.copy()`\n",
      "  test_df[col] = 0\n",
      "C:\\Users\\ilham\\AppData\\Local\\Temp\\ipykernel_50284\\1348943667.py:5: PerformanceWarning: DataFrame is highly fragmented.  This is usually the result of calling `frame.insert` many times, which has poor performance.  Consider joining all columns at once using pd.concat(axis=1) instead. To get a de-fragmented frame, use `newframe = frame.copy()`\n",
      "  test_df[col] = 0\n",
      "C:\\Users\\ilham\\AppData\\Local\\Temp\\ipykernel_50284\\1348943667.py:5: PerformanceWarning: DataFrame is highly fragmented.  This is usually the result of calling `frame.insert` many times, which has poor performance.  Consider joining all columns at once using pd.concat(axis=1) instead. To get a de-fragmented frame, use `newframe = frame.copy()`\n",
      "  test_df[col] = 0\n",
      "C:\\Users\\ilham\\AppData\\Local\\Temp\\ipykernel_50284\\1348943667.py:5: PerformanceWarning: DataFrame is highly fragmented.  This is usually the result of calling `frame.insert` many times, which has poor performance.  Consider joining all columns at once using pd.concat(axis=1) instead. To get a de-fragmented frame, use `newframe = frame.copy()`\n",
      "  test_df[col] = 0\n",
      "C:\\Users\\ilham\\AppData\\Local\\Temp\\ipykernel_50284\\1348943667.py:5: PerformanceWarning: DataFrame is highly fragmented.  This is usually the result of calling `frame.insert` many times, which has poor performance.  Consider joining all columns at once using pd.concat(axis=1) instead. To get a de-fragmented frame, use `newframe = frame.copy()`\n",
      "  test_df[col] = 0\n",
      "C:\\Users\\ilham\\AppData\\Local\\Temp\\ipykernel_50284\\1348943667.py:5: PerformanceWarning: DataFrame is highly fragmented.  This is usually the result of calling `frame.insert` many times, which has poor performance.  Consider joining all columns at once using pd.concat(axis=1) instead. To get a de-fragmented frame, use `newframe = frame.copy()`\n",
      "  test_df[col] = 0\n",
      "C:\\Users\\ilham\\AppData\\Local\\Temp\\ipykernel_50284\\1348943667.py:5: PerformanceWarning: DataFrame is highly fragmented.  This is usually the result of calling `frame.insert` many times, which has poor performance.  Consider joining all columns at once using pd.concat(axis=1) instead. To get a de-fragmented frame, use `newframe = frame.copy()`\n",
      "  test_df[col] = 0\n",
      "C:\\Users\\ilham\\AppData\\Local\\Temp\\ipykernel_50284\\1348943667.py:5: PerformanceWarning: DataFrame is highly fragmented.  This is usually the result of calling `frame.insert` many times, which has poor performance.  Consider joining all columns at once using pd.concat(axis=1) instead. To get a de-fragmented frame, use `newframe = frame.copy()`\n",
      "  test_df[col] = 0\n",
      "C:\\Users\\ilham\\AppData\\Local\\Temp\\ipykernel_50284\\1348943667.py:5: PerformanceWarning: DataFrame is highly fragmented.  This is usually the result of calling `frame.insert` many times, which has poor performance.  Consider joining all columns at once using pd.concat(axis=1) instead. To get a de-fragmented frame, use `newframe = frame.copy()`\n",
      "  test_df[col] = 0\n",
      "C:\\Users\\ilham\\AppData\\Local\\Temp\\ipykernel_50284\\1348943667.py:5: PerformanceWarning: DataFrame is highly fragmented.  This is usually the result of calling `frame.insert` many times, which has poor performance.  Consider joining all columns at once using pd.concat(axis=1) instead. To get a de-fragmented frame, use `newframe = frame.copy()`\n",
      "  test_df[col] = 0\n",
      "C:\\Users\\ilham\\AppData\\Local\\Temp\\ipykernel_50284\\1348943667.py:5: PerformanceWarning: DataFrame is highly fragmented.  This is usually the result of calling `frame.insert` many times, which has poor performance.  Consider joining all columns at once using pd.concat(axis=1) instead. To get a de-fragmented frame, use `newframe = frame.copy()`\n",
      "  test_df[col] = 0\n",
      "C:\\Users\\ilham\\AppData\\Local\\Temp\\ipykernel_50284\\1348943667.py:5: PerformanceWarning: DataFrame is highly fragmented.  This is usually the result of calling `frame.insert` many times, which has poor performance.  Consider joining all columns at once using pd.concat(axis=1) instead. To get a de-fragmented frame, use `newframe = frame.copy()`\n",
      "  test_df[col] = 0\n",
      "C:\\Users\\ilham\\AppData\\Local\\Temp\\ipykernel_50284\\1348943667.py:5: PerformanceWarning: DataFrame is highly fragmented.  This is usually the result of calling `frame.insert` many times, which has poor performance.  Consider joining all columns at once using pd.concat(axis=1) instead. To get a de-fragmented frame, use `newframe = frame.copy()`\n",
      "  test_df[col] = 0\n",
      "C:\\Users\\ilham\\AppData\\Local\\Temp\\ipykernel_50284\\1348943667.py:5: PerformanceWarning: DataFrame is highly fragmented.  This is usually the result of calling `frame.insert` many times, which has poor performance.  Consider joining all columns at once using pd.concat(axis=1) instead. To get a de-fragmented frame, use `newframe = frame.copy()`\n",
      "  test_df[col] = 0\n",
      "C:\\Users\\ilham\\AppData\\Local\\Temp\\ipykernel_50284\\1348943667.py:5: PerformanceWarning: DataFrame is highly fragmented.  This is usually the result of calling `frame.insert` many times, which has poor performance.  Consider joining all columns at once using pd.concat(axis=1) instead. To get a de-fragmented frame, use `newframe = frame.copy()`\n",
      "  test_df[col] = 0\n",
      "C:\\Users\\ilham\\AppData\\Local\\Temp\\ipykernel_50284\\1348943667.py:5: PerformanceWarning: DataFrame is highly fragmented.  This is usually the result of calling `frame.insert` many times, which has poor performance.  Consider joining all columns at once using pd.concat(axis=1) instead. To get a de-fragmented frame, use `newframe = frame.copy()`\n",
      "  test_df[col] = 0\n",
      "C:\\Users\\ilham\\AppData\\Local\\Temp\\ipykernel_50284\\1348943667.py:5: PerformanceWarning: DataFrame is highly fragmented.  This is usually the result of calling `frame.insert` many times, which has poor performance.  Consider joining all columns at once using pd.concat(axis=1) instead. To get a de-fragmented frame, use `newframe = frame.copy()`\n",
      "  test_df[col] = 0\n",
      "C:\\Users\\ilham\\AppData\\Local\\Temp\\ipykernel_50284\\1348943667.py:5: PerformanceWarning: DataFrame is highly fragmented.  This is usually the result of calling `frame.insert` many times, which has poor performance.  Consider joining all columns at once using pd.concat(axis=1) instead. To get a de-fragmented frame, use `newframe = frame.copy()`\n",
      "  test_df[col] = 0\n",
      "C:\\Users\\ilham\\AppData\\Local\\Temp\\ipykernel_50284\\1348943667.py:5: PerformanceWarning: DataFrame is highly fragmented.  This is usually the result of calling `frame.insert` many times, which has poor performance.  Consider joining all columns at once using pd.concat(axis=1) instead. To get a de-fragmented frame, use `newframe = frame.copy()`\n",
      "  test_df[col] = 0\n",
      "C:\\Users\\ilham\\AppData\\Local\\Temp\\ipykernel_50284\\1348943667.py:5: PerformanceWarning: DataFrame is highly fragmented.  This is usually the result of calling `frame.insert` many times, which has poor performance.  Consider joining all columns at once using pd.concat(axis=1) instead. To get a de-fragmented frame, use `newframe = frame.copy()`\n",
      "  test_df[col] = 0\n",
      "C:\\Users\\ilham\\AppData\\Local\\Temp\\ipykernel_50284\\1348943667.py:5: PerformanceWarning: DataFrame is highly fragmented.  This is usually the result of calling `frame.insert` many times, which has poor performance.  Consider joining all columns at once using pd.concat(axis=1) instead. To get a de-fragmented frame, use `newframe = frame.copy()`\n",
      "  test_df[col] = 0\n",
      "C:\\Users\\ilham\\AppData\\Local\\Temp\\ipykernel_50284\\1348943667.py:5: PerformanceWarning: DataFrame is highly fragmented.  This is usually the result of calling `frame.insert` many times, which has poor performance.  Consider joining all columns at once using pd.concat(axis=1) instead. To get a de-fragmented frame, use `newframe = frame.copy()`\n",
      "  test_df[col] = 0\n",
      "C:\\Users\\ilham\\AppData\\Local\\Temp\\ipykernel_50284\\1348943667.py:5: PerformanceWarning: DataFrame is highly fragmented.  This is usually the result of calling `frame.insert` many times, which has poor performance.  Consider joining all columns at once using pd.concat(axis=1) instead. To get a de-fragmented frame, use `newframe = frame.copy()`\n",
      "  test_df[col] = 0\n",
      "C:\\Users\\ilham\\AppData\\Local\\Temp\\ipykernel_50284\\1348943667.py:5: PerformanceWarning: DataFrame is highly fragmented.  This is usually the result of calling `frame.insert` many times, which has poor performance.  Consider joining all columns at once using pd.concat(axis=1) instead. To get a de-fragmented frame, use `newframe = frame.copy()`\n",
      "  test_df[col] = 0\n",
      "C:\\Users\\ilham\\AppData\\Local\\Temp\\ipykernel_50284\\1348943667.py:5: PerformanceWarning: DataFrame is highly fragmented.  This is usually the result of calling `frame.insert` many times, which has poor performance.  Consider joining all columns at once using pd.concat(axis=1) instead. To get a de-fragmented frame, use `newframe = frame.copy()`\n",
      "  test_df[col] = 0\n",
      "C:\\Users\\ilham\\AppData\\Local\\Temp\\ipykernel_50284\\1348943667.py:5: PerformanceWarning: DataFrame is highly fragmented.  This is usually the result of calling `frame.insert` many times, which has poor performance.  Consider joining all columns at once using pd.concat(axis=1) instead. To get a de-fragmented frame, use `newframe = frame.copy()`\n",
      "  test_df[col] = 0\n",
      "C:\\Users\\ilham\\AppData\\Local\\Temp\\ipykernel_50284\\1348943667.py:5: PerformanceWarning: DataFrame is highly fragmented.  This is usually the result of calling `frame.insert` many times, which has poor performance.  Consider joining all columns at once using pd.concat(axis=1) instead. To get a de-fragmented frame, use `newframe = frame.copy()`\n",
      "  test_df[col] = 0\n",
      "C:\\Users\\ilham\\AppData\\Local\\Temp\\ipykernel_50284\\1348943667.py:5: PerformanceWarning: DataFrame is highly fragmented.  This is usually the result of calling `frame.insert` many times, which has poor performance.  Consider joining all columns at once using pd.concat(axis=1) instead. To get a de-fragmented frame, use `newframe = frame.copy()`\n",
      "  test_df[col] = 0\n",
      "C:\\Users\\ilham\\AppData\\Local\\Temp\\ipykernel_50284\\1348943667.py:5: PerformanceWarning: DataFrame is highly fragmented.  This is usually the result of calling `frame.insert` many times, which has poor performance.  Consider joining all columns at once using pd.concat(axis=1) instead. To get a de-fragmented frame, use `newframe = frame.copy()`\n",
      "  test_df[col] = 0\n",
      "C:\\Users\\ilham\\AppData\\Local\\Temp\\ipykernel_50284\\1348943667.py:5: PerformanceWarning: DataFrame is highly fragmented.  This is usually the result of calling `frame.insert` many times, which has poor performance.  Consider joining all columns at once using pd.concat(axis=1) instead. To get a de-fragmented frame, use `newframe = frame.copy()`\n",
      "  test_df[col] = 0\n",
      "C:\\Users\\ilham\\AppData\\Local\\Temp\\ipykernel_50284\\1348943667.py:5: PerformanceWarning: DataFrame is highly fragmented.  This is usually the result of calling `frame.insert` many times, which has poor performance.  Consider joining all columns at once using pd.concat(axis=1) instead. To get a de-fragmented frame, use `newframe = frame.copy()`\n",
      "  test_df[col] = 0\n",
      "C:\\Users\\ilham\\AppData\\Local\\Temp\\ipykernel_50284\\1348943667.py:5: PerformanceWarning: DataFrame is highly fragmented.  This is usually the result of calling `frame.insert` many times, which has poor performance.  Consider joining all columns at once using pd.concat(axis=1) instead. To get a de-fragmented frame, use `newframe = frame.copy()`\n",
      "  test_df[col] = 0\n",
      "C:\\Users\\ilham\\AppData\\Local\\Temp\\ipykernel_50284\\1348943667.py:5: PerformanceWarning: DataFrame is highly fragmented.  This is usually the result of calling `frame.insert` many times, which has poor performance.  Consider joining all columns at once using pd.concat(axis=1) instead. To get a de-fragmented frame, use `newframe = frame.copy()`\n",
      "  test_df[col] = 0\n",
      "C:\\Users\\ilham\\AppData\\Local\\Temp\\ipykernel_50284\\1348943667.py:5: PerformanceWarning: DataFrame is highly fragmented.  This is usually the result of calling `frame.insert` many times, which has poor performance.  Consider joining all columns at once using pd.concat(axis=1) instead. To get a de-fragmented frame, use `newframe = frame.copy()`\n",
      "  test_df[col] = 0\n",
      "C:\\Users\\ilham\\AppData\\Local\\Temp\\ipykernel_50284\\1348943667.py:5: PerformanceWarning: DataFrame is highly fragmented.  This is usually the result of calling `frame.insert` many times, which has poor performance.  Consider joining all columns at once using pd.concat(axis=1) instead. To get a de-fragmented frame, use `newframe = frame.copy()`\n",
      "  test_df[col] = 0\n",
      "C:\\Users\\ilham\\AppData\\Local\\Temp\\ipykernel_50284\\1348943667.py:5: PerformanceWarning: DataFrame is highly fragmented.  This is usually the result of calling `frame.insert` many times, which has poor performance.  Consider joining all columns at once using pd.concat(axis=1) instead. To get a de-fragmented frame, use `newframe = frame.copy()`\n",
      "  test_df[col] = 0\n",
      "C:\\Users\\ilham\\AppData\\Local\\Temp\\ipykernel_50284\\1348943667.py:5: PerformanceWarning: DataFrame is highly fragmented.  This is usually the result of calling `frame.insert` many times, which has poor performance.  Consider joining all columns at once using pd.concat(axis=1) instead. To get a de-fragmented frame, use `newframe = frame.copy()`\n",
      "  test_df[col] = 0\n",
      "C:\\Users\\ilham\\AppData\\Local\\Temp\\ipykernel_50284\\1348943667.py:5: PerformanceWarning: DataFrame is highly fragmented.  This is usually the result of calling `frame.insert` many times, which has poor performance.  Consider joining all columns at once using pd.concat(axis=1) instead. To get a de-fragmented frame, use `newframe = frame.copy()`\n",
      "  test_df[col] = 0\n",
      "C:\\Users\\ilham\\AppData\\Local\\Temp\\ipykernel_50284\\1348943667.py:5: PerformanceWarning: DataFrame is highly fragmented.  This is usually the result of calling `frame.insert` many times, which has poor performance.  Consider joining all columns at once using pd.concat(axis=1) instead. To get a de-fragmented frame, use `newframe = frame.copy()`\n",
      "  test_df[col] = 0\n",
      "C:\\Users\\ilham\\AppData\\Local\\Temp\\ipykernel_50284\\1348943667.py:5: PerformanceWarning: DataFrame is highly fragmented.  This is usually the result of calling `frame.insert` many times, which has poor performance.  Consider joining all columns at once using pd.concat(axis=1) instead. To get a de-fragmented frame, use `newframe = frame.copy()`\n",
      "  test_df[col] = 0\n",
      "C:\\Users\\ilham\\AppData\\Local\\Temp\\ipykernel_50284\\1348943667.py:5: PerformanceWarning: DataFrame is highly fragmented.  This is usually the result of calling `frame.insert` many times, which has poor performance.  Consider joining all columns at once using pd.concat(axis=1) instead. To get a de-fragmented frame, use `newframe = frame.copy()`\n",
      "  test_df[col] = 0\n",
      "C:\\Users\\ilham\\AppData\\Local\\Temp\\ipykernel_50284\\1348943667.py:5: PerformanceWarning: DataFrame is highly fragmented.  This is usually the result of calling `frame.insert` many times, which has poor performance.  Consider joining all columns at once using pd.concat(axis=1) instead. To get a de-fragmented frame, use `newframe = frame.copy()`\n",
      "  test_df[col] = 0\n",
      "C:\\Users\\ilham\\AppData\\Local\\Temp\\ipykernel_50284\\1348943667.py:5: PerformanceWarning: DataFrame is highly fragmented.  This is usually the result of calling `frame.insert` many times, which has poor performance.  Consider joining all columns at once using pd.concat(axis=1) instead. To get a de-fragmented frame, use `newframe = frame.copy()`\n",
      "  test_df[col] = 0\n",
      "C:\\Users\\ilham\\AppData\\Local\\Temp\\ipykernel_50284\\1348943667.py:5: PerformanceWarning: DataFrame is highly fragmented.  This is usually the result of calling `frame.insert` many times, which has poor performance.  Consider joining all columns at once using pd.concat(axis=1) instead. To get a de-fragmented frame, use `newframe = frame.copy()`\n",
      "  test_df[col] = 0\n",
      "C:\\Users\\ilham\\AppData\\Local\\Temp\\ipykernel_50284\\1348943667.py:5: PerformanceWarning: DataFrame is highly fragmented.  This is usually the result of calling `frame.insert` many times, which has poor performance.  Consider joining all columns at once using pd.concat(axis=1) instead. To get a de-fragmented frame, use `newframe = frame.copy()`\n",
      "  test_df[col] = 0\n",
      "C:\\Users\\ilham\\AppData\\Local\\Temp\\ipykernel_50284\\1348943667.py:5: PerformanceWarning: DataFrame is highly fragmented.  This is usually the result of calling `frame.insert` many times, which has poor performance.  Consider joining all columns at once using pd.concat(axis=1) instead. To get a de-fragmented frame, use `newframe = frame.copy()`\n",
      "  test_df[col] = 0\n",
      "C:\\Users\\ilham\\AppData\\Local\\Temp\\ipykernel_50284\\1348943667.py:5: PerformanceWarning: DataFrame is highly fragmented.  This is usually the result of calling `frame.insert` many times, which has poor performance.  Consider joining all columns at once using pd.concat(axis=1) instead. To get a de-fragmented frame, use `newframe = frame.copy()`\n",
      "  test_df[col] = 0\n",
      "C:\\Users\\ilham\\AppData\\Local\\Temp\\ipykernel_50284\\1348943667.py:5: PerformanceWarning: DataFrame is highly fragmented.  This is usually the result of calling `frame.insert` many times, which has poor performance.  Consider joining all columns at once using pd.concat(axis=1) instead. To get a de-fragmented frame, use `newframe = frame.copy()`\n",
      "  test_df[col] = 0\n",
      "C:\\Users\\ilham\\AppData\\Local\\Temp\\ipykernel_50284\\1348943667.py:5: PerformanceWarning: DataFrame is highly fragmented.  This is usually the result of calling `frame.insert` many times, which has poor performance.  Consider joining all columns at once using pd.concat(axis=1) instead. To get a de-fragmented frame, use `newframe = frame.copy()`\n",
      "  test_df[col] = 0\n",
      "C:\\Users\\ilham\\AppData\\Local\\Temp\\ipykernel_50284\\1348943667.py:5: PerformanceWarning: DataFrame is highly fragmented.  This is usually the result of calling `frame.insert` many times, which has poor performance.  Consider joining all columns at once using pd.concat(axis=1) instead. To get a de-fragmented frame, use `newframe = frame.copy()`\n",
      "  test_df[col] = 0\n",
      "C:\\Users\\ilham\\AppData\\Local\\Temp\\ipykernel_50284\\1348943667.py:5: PerformanceWarning: DataFrame is highly fragmented.  This is usually the result of calling `frame.insert` many times, which has poor performance.  Consider joining all columns at once using pd.concat(axis=1) instead. To get a de-fragmented frame, use `newframe = frame.copy()`\n",
      "  test_df[col] = 0\n",
      "C:\\Users\\ilham\\AppData\\Local\\Temp\\ipykernel_50284\\1348943667.py:5: PerformanceWarning: DataFrame is highly fragmented.  This is usually the result of calling `frame.insert` many times, which has poor performance.  Consider joining all columns at once using pd.concat(axis=1) instead. To get a de-fragmented frame, use `newframe = frame.copy()`\n",
      "  test_df[col] = 0\n",
      "C:\\Users\\ilham\\AppData\\Local\\Temp\\ipykernel_50284\\1348943667.py:5: PerformanceWarning: DataFrame is highly fragmented.  This is usually the result of calling `frame.insert` many times, which has poor performance.  Consider joining all columns at once using pd.concat(axis=1) instead. To get a de-fragmented frame, use `newframe = frame.copy()`\n",
      "  test_df[col] = 0\n",
      "C:\\Users\\ilham\\AppData\\Local\\Temp\\ipykernel_50284\\1348943667.py:5: PerformanceWarning: DataFrame is highly fragmented.  This is usually the result of calling `frame.insert` many times, which has poor performance.  Consider joining all columns at once using pd.concat(axis=1) instead. To get a de-fragmented frame, use `newframe = frame.copy()`\n",
      "  test_df[col] = 0\n",
      "C:\\Users\\ilham\\AppData\\Local\\Temp\\ipykernel_50284\\1348943667.py:5: PerformanceWarning: DataFrame is highly fragmented.  This is usually the result of calling `frame.insert` many times, which has poor performance.  Consider joining all columns at once using pd.concat(axis=1) instead. To get a de-fragmented frame, use `newframe = frame.copy()`\n",
      "  test_df[col] = 0\n"
     ]
    }
   ],
   "source": [
    "test_df = pd.DataFrame({'DISTANCE': [537]})\n",
    "\n",
    "route_columns = [col for col in X_train.columns if col.startswith('SHIP_ROUTE_')]\n",
    "for col in route_columns:\n",
    "    test_df[col] = 0\n",
    "\n",
    "test_df = test_df[X_train.columns]\n",
    "dmatrix_test = xgb.DMatrix(test_df)\n",
    "\n",
    "prediction = xgb_model.predict(dmatrix_test)\n",
    "print(f\"Predicted Fresh Water Consumption: {prediction[0]:.2f} liters\")"
   ]
  },
  {
   "cell_type": "code",
   "execution_count": 12,
   "metadata": {},
   "outputs": [
    {
     "name": "stdout",
     "output_type": "stream",
     "text": [
      "    DISTANCE  Actual (At)  Predicted (Ft)  Error (At - Ft)  Squared Error\n",
      "0         17          100      255.432343      -155.432343   24159.213104\n",
      "1         17          100      255.432343      -155.432343   24159.213104\n",
      "2         50          200      295.237274       -95.237274    9070.138391\n",
      "3         50          200      470.513123      -270.513123   73177.349476\n",
      "4         50          200      470.513123      -270.513123   73177.349476\n",
      "..       ...          ...             ...              ...            ...\n",
      "95       152         3050     3740.282959      -690.282959  476490.563464\n",
      "96       235         3100     4014.210205      -914.210205  835780.299069\n",
      "97       252         3200     3268.047607       -68.047607    4630.476876\n",
      "98       235         3200     4014.210205      -814.210205  662938.258053\n",
      "99       152         3200     3740.282959      -540.282959  291905.675769\n",
      "\n",
      "[100 rows x 5 columns]\n",
      "\n",
      "Total Samples: 1185\n",
      "Manual MSE: 526156.029432\n"
     ]
    }
   ],
   "source": [
    "import pandas as pd\n",
    "import xgboost as xgb\n",
    "\n",
    "\n",
    "df_encoded = pd.get_dummies(df, columns=['SHIP_ROUTE'], prefix='SHIP_ROUTE')\n",
    "\n",
    "\n",
    "for col in X_train.columns:\n",
    "    if col not in df_encoded.columns:\n",
    "        df_encoded[col] = 0\n",
    "\n",
    "\n",
    "df_encoded = df_encoded[X_train.columns]\n",
    "\n",
    "\n",
    "dmatrix_test = xgb.DMatrix(df_encoded)\n",
    "\n",
    "\n",
    "predictions = xgb_model.predict(dmatrix_test)\n",
    "\n",
    "\n",
    "actual = df['FRESH_WATER'].values\n",
    "errors = actual - predictions\n",
    "squared_errors = errors ** 2\n",
    "\n",
    "\n",
    "results_df = pd.DataFrame({\n",
    "    'DISTANCE': df['DISTANCE'],\n",
    "    'Actual (At)': actual,\n",
    "    'Predicted (Ft)': predictions,\n",
    "    'Error (At - Ft)': errors,\n",
    "    'Squared Error': squared_errors\n",
    "})\n",
    "\n",
    "mse = sum(squared_errors) / len(df)\n",
    "print(results_df.head(100))\n",
    "print(f\"\\nTotal Samples: {len(df)}\")\n",
    "print(f\"Manual MSE: {mse:.6f}\")\n"
   ]
  },
  {
   "cell_type": "code",
   "execution_count": 13,
   "metadata": {},
   "outputs": [],
   "source": [
    "import joblib\n",
    "import json\n",
    "\n",
    "# Save model\n",
    "joblib.dump(xgb_model, 'xgb_modeljson.pkl')\n",
    "\n",
    "# Save the list of feature columns (needed for prediction input)\n",
    "with open('xgb_columns.json', 'w') as f:\n",
    "    json.dump(X_train.columns.tolist(), f)\n"
   ]
  }
 ],
 "metadata": {
  "kernelspec": {
   "display_name": "vision1",
   "language": "python",
   "name": "python3"
  },
  "language_info": {
   "codemirror_mode": {
    "name": "ipython",
    "version": 3
   },
   "file_extension": ".py",
   "mimetype": "text/x-python",
   "name": "python",
   "nbconvert_exporter": "python",
   "pygments_lexer": "ipython3",
   "version": "3.10.13"
  }
 },
 "nbformat": 4,
 "nbformat_minor": 2
}
