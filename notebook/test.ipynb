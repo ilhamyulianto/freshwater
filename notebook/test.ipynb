{
 "cells": [
  {
   "cell_type": "code",
   "execution_count": 1,
   "metadata": {},
   "outputs": [],
   "source": [
    "import pandas as pd"
   ]
  },
  {
   "cell_type": "code",
   "execution_count": 72,
   "metadata": {},
   "outputs": [],
   "source": [
    "df_ship = pd.read_excel('../data/freshwater_datamaster.xlsx', sheet_name='ship')\n",
    "df_ship_distance = pd.read_excel('../data/freshwater_datamaster.xlsx', sheet_name='ship_distance')\n",
    "df_asj = pd.read_excel('../data/freshwater_datamaster.xlsx', sheet_name='ASJ')\n",
    "df_ren = pd.read_excel('../data/freshwater_datamaster.xlsx', sheet_name='REN')\n",
    "df_aka = pd.read_excel('../data/freshwater_datamaster.xlsx', sheet_name='AKA')\n",
    "df_fwcost = pd.read_excel('../data/freshwater_datamaster.xlsx', sheet_name='fw_cost')\n"
   ]
  },
  {
   "cell_type": "code",
   "execution_count": 9,
   "metadata": {},
   "outputs": [
    {
     "data": {
      "text/html": [
       "<div>\n",
       "<style scoped>\n",
       "    .dataframe tbody tr th:only-of-type {\n",
       "        vertical-align: middle;\n",
       "    }\n",
       "\n",
       "    .dataframe tbody tr th {\n",
       "        vertical-align: top;\n",
       "    }\n",
       "\n",
       "    .dataframe thead th {\n",
       "        text-align: right;\n",
       "    }\n",
       "</style>\n",
       "<table border=\"1\" class=\"dataframe\">\n",
       "  <thead>\n",
       "    <tr style=\"text-align: right;\">\n",
       "      <th></th>\n",
       "      <th>ship</th>\n",
       "      <th>tank_capacity</th>\n",
       "    </tr>\n",
       "  </thead>\n",
       "  <tbody>\n",
       "    <tr>\n",
       "      <th>0</th>\n",
       "      <td>ASJ</td>\n",
       "      <td>93000</td>\n",
       "    </tr>\n",
       "    <tr>\n",
       "      <th>1</th>\n",
       "      <td>REN</td>\n",
       "      <td>85000</td>\n",
       "    </tr>\n",
       "    <tr>\n",
       "      <th>2</th>\n",
       "      <td>AKA</td>\n",
       "      <td>70000</td>\n",
       "    </tr>\n",
       "  </tbody>\n",
       "</table>\n",
       "</div>"
      ],
      "text/plain": [
       "  ship  tank_capacity\n",
       "0  ASJ          93000\n",
       "1  REN          85000\n",
       "2  AKA          70000"
      ]
     },
     "execution_count": 9,
     "metadata": {},
     "output_type": "execute_result"
    }
   ],
   "source": [
    "df_ship"
   ]
  },
  {
   "cell_type": "code",
   "execution_count": 8,
   "metadata": {},
   "outputs": [
    {
     "data": {
      "text/plain": [
       "['ASJ', 'REN', 'AKA']"
      ]
     },
     "execution_count": 8,
     "metadata": {},
     "output_type": "execute_result"
    }
   ],
   "source": [
    "ships = df_ship['ship'].to_list()\n",
    "ships"
   ]
  },
  {
   "cell_type": "code",
   "execution_count": 14,
   "metadata": {},
   "outputs": [
    {
     "data": {
      "text/plain": [
       "array(['ASJ', 93000], dtype=object)"
      ]
     },
     "execution_count": 14,
     "metadata": {},
     "output_type": "execute_result"
    }
   ],
   "source": [
    "df_ship.loc[df_ship['ship'] == 'ASJ'].values[0]"
   ]
  },
  {
   "cell_type": "code",
   "execution_count": 49,
   "metadata": {},
   "outputs": [
    {
     "data": {
      "text/plain": [
       "'SURABAYA;BALIKPAPAN;PALU'"
      ]
     },
     "execution_count": 49,
     "metadata": {},
     "output_type": "execute_result"
    }
   ],
   "source": [
    "ports = df_asj.loc[df_asj[\"VOYAGE\"] == \"1-23\", \"PORTS\"][0]\n",
    "# ports = ports.split(\";\")\n",
    "ports"
   ]
  },
  {
   "cell_type": "code",
   "execution_count": 64,
   "metadata": {},
   "outputs": [],
   "source": [
    "def get_list(df, reference, reference_column, destination_column):\n",
    "    lst = df.loc[df[reference_column] == reference, destination_column].values\n",
    "    return lst"
   ]
  },
  {
   "cell_type": "code",
   "execution_count": 165,
   "metadata": {},
   "outputs": [
    {
     "data": {
      "text/plain": [
       "['SURABAYA', 'BALIKPAPAN', 'PALU']"
      ]
     },
     "execution_count": 165,
     "metadata": {},
     "output_type": "execute_result"
    }
   ],
   "source": [
    "ports = get_list(df_asj, \"1-23\", \"VOYAGE\", \"PORTS\")\n",
    "ports = ports[0].split(\";\")\n",
    "ports"
   ]
  },
  {
   "cell_type": "code",
   "execution_count": 170,
   "metadata": {},
   "outputs": [
    {
     "data": {
      "text/plain": [
       "[40000, 24000, 25000]"
      ]
     },
     "execution_count": 170,
     "metadata": {},
     "output_type": "execute_result"
    },
    {
     "ename": "",
     "evalue": "",
     "output_type": "error",
     "traceback": [
      "\u001b[1;31mThe Kernel crashed while executing code in the current cell or a previous cell. \n",
      "\u001b[1;31mPlease review the code in the cell(s) to identify a possible cause of the failure. \n",
      "\u001b[1;31mClick <a href='https://aka.ms/vscodeJupyterKernelCrash'>here</a> for more info. \n",
      "\u001b[1;31mView Jupyter <a href='command:jupyter.viewOutput'>log</a> for further details."
     ]
    }
   ],
   "source": [
    "cost = [get_list(df_fwcost, item, \"LOKASI\", \"COST\")[0] for item in ports]\n",
    "cost"
   ]
  },
  {
   "cell_type": "code",
   "execution_count": 105,
   "metadata": {},
   "outputs": [
    {
     "data": {
      "text/plain": [
       "['SURABAYA-BALIKPAPAN', 'BALIKPAPAN-PALU', 'PALU-SURABAYA']"
      ]
     },
     "execution_count": 105,
     "metadata": {},
     "output_type": "execute_result"
    }
   ],
   "source": [
    "trips = get_list(df_asj, \"1-23\", \"VOYAGE\", \"TRIPS\")\n",
    "trips = trips[0].split(\";\")\n",
    "trips\n"
   ]
  },
  {
   "cell_type": "code",
   "execution_count": 73,
   "metadata": {},
   "outputs": [
    {
     "data": {
      "text/html": [
       "<div>\n",
       "<style scoped>\n",
       "    .dataframe tbody tr th:only-of-type {\n",
       "        vertical-align: middle;\n",
       "    }\n",
       "\n",
       "    .dataframe tbody tr th {\n",
       "        vertical-align: top;\n",
       "    }\n",
       "\n",
       "    .dataframe thead th {\n",
       "        text-align: right;\n",
       "    }\n",
       "</style>\n",
       "<table border=\"1\" class=\"dataframe\">\n",
       "  <thead>\n",
       "    <tr style=\"text-align: right;\">\n",
       "      <th></th>\n",
       "      <th>TRIP</th>\n",
       "      <th>DISTANCE</th>\n",
       "    </tr>\n",
       "  </thead>\n",
       "  <tbody>\n",
       "    <tr>\n",
       "      <th>0</th>\n",
       "      <td>JAKARTA-SURABAYA</td>\n",
       "      <td>438.000000</td>\n",
       "    </tr>\n",
       "    <tr>\n",
       "      <th>1</th>\n",
       "      <td>SURABAYA-BALIKPAPAN</td>\n",
       "      <td>600.000000</td>\n",
       "    </tr>\n",
       "    <tr>\n",
       "      <th>2</th>\n",
       "      <td>BALIKPAPAN-PALU</td>\n",
       "      <td>153.000000</td>\n",
       "    </tr>\n",
       "    <tr>\n",
       "      <th>3</th>\n",
       "      <td>PALU-SURABAYA</td>\n",
       "      <td>780.160000</td>\n",
       "    </tr>\n",
       "    <tr>\n",
       "      <th>4</th>\n",
       "      <td>SURABAYA-MAKASSAR</td>\n",
       "      <td>641.153333</td>\n",
       "    </tr>\n",
       "    <tr>\n",
       "      <th>...</th>\n",
       "      <td>...</td>\n",
       "      <td>...</td>\n",
       "    </tr>\n",
       "    <tr>\n",
       "      <th>64</th>\n",
       "      <td>BATAM-JAKARTA</td>\n",
       "      <td>591.000000</td>\n",
       "    </tr>\n",
       "    <tr>\n",
       "      <th>65</th>\n",
       "      <td>SURABAYA-SEMARANG</td>\n",
       "      <td>284.000000</td>\n",
       "    </tr>\n",
       "    <tr>\n",
       "      <th>66</th>\n",
       "      <td>SEMARANG-MAKASSAR</td>\n",
       "      <td>671.000000</td>\n",
       "    </tr>\n",
       "    <tr>\n",
       "      <th>67</th>\n",
       "      <td>MAKASSAR-JAKARTA</td>\n",
       "      <td>806.000000</td>\n",
       "    </tr>\n",
       "    <tr>\n",
       "      <th>68</th>\n",
       "      <td>JAKARTA-PALU</td>\n",
       "      <td>1024.000000</td>\n",
       "    </tr>\n",
       "  </tbody>\n",
       "</table>\n",
       "<p>69 rows × 2 columns</p>\n",
       "</div>"
      ],
      "text/plain": [
       "                   TRIP     DISTANCE\n",
       "0      JAKARTA-SURABAYA   438.000000\n",
       "1   SURABAYA-BALIKPAPAN   600.000000\n",
       "2       BALIKPAPAN-PALU   153.000000\n",
       "3         PALU-SURABAYA   780.160000\n",
       "4     SURABAYA-MAKASSAR   641.153333\n",
       "..                  ...          ...\n",
       "64        BATAM-JAKARTA   591.000000\n",
       "65    SURABAYA-SEMARANG   284.000000\n",
       "66    SEMARANG-MAKASSAR   671.000000\n",
       "67     MAKASSAR-JAKARTA   806.000000\n",
       "68         JAKARTA-PALU  1024.000000\n",
       "\n",
       "[69 rows x 2 columns]"
      ]
     },
     "execution_count": 73,
     "metadata": {},
     "output_type": "execute_result"
    }
   ],
   "source": [
    "df_ship_distance"
   ]
  },
  {
   "cell_type": "code",
   "execution_count": 98,
   "metadata": {},
   "outputs": [
    {
     "data": {
      "text/plain": [
       "[[600.0], [153.0], [780.1599999997532]]"
      ]
     },
     "execution_count": 98,
     "metadata": {},
     "output_type": "execute_result"
    }
   ],
   "source": [
    "\n",
    "distance = []\n",
    "for trip in trips:\n",
    "    item = get_list(df_ship_distance, trip, \"TRIP\", \"DISTANCE\")\n",
    "    wrapper = list(item)\n",
    "    distance.append(wrapper)\n",
    "\n",
    "distances = np.array(distance).reshape(-1, 1)\n",
    "distance\n"
   ]
  },
  {
   "cell_type": "code",
   "execution_count": 140,
   "metadata": {},
   "outputs": [],
   "source": [
    "def get_distances(trips):\n",
    "    distance = []\n",
    "    for trip in trips:\n",
    "        item = get_list(df_ship_distance, trip, \"TRIP\", \"DISTANCE\")\n",
    "        wrapper = list(item)\n",
    "        distance.append(wrapper)\n",
    "    return distance\n",
    "        "
   ]
  },
  {
   "cell_type": "code",
   "execution_count": 141,
   "metadata": {},
   "outputs": [
    {
     "data": {
      "text/plain": [
       "[[600.0], [153.0], [780.1599999997532]]"
      ]
     },
     "execution_count": 141,
     "metadata": {},
     "output_type": "execute_result"
    }
   ],
   "source": [
    "distance = get_distances(trips)\n",
    "distance"
   ]
  },
  {
   "cell_type": "code",
   "execution_count": 158,
   "metadata": {},
   "outputs": [],
   "source": [
    "def predict_freshwater(distances):\n",
    "    model = joblib.load(\"../models/model.pkl\")\n",
    "    scaler = joblib.load(\"../models/scaler.pkl\")\n",
    "    distance_scaled = scaler.transform(distances)\n",
    "    fwneeds = []\n",
    "    for item in distance_scaled:\n",
    "        fw = model.predict(item.reshape(1, -1))\n",
    "        fwneeds.append(round(fw[0], 2))\n",
    "    return fwneeds\n",
    "    "
   ]
  },
  {
   "cell_type": "code",
   "execution_count": 159,
   "metadata": {},
   "outputs": [],
   "source": [
    "distance_numbers = [item[0] for item in distance]"
   ]
  },
  {
   "cell_type": "code",
   "execution_count": 162,
   "metadata": {},
   "outputs": [
    {
     "data": {
      "text/html": [
       "<div>\n",
       "<style scoped>\n",
       "    .dataframe tbody tr th:only-of-type {\n",
       "        vertical-align: middle;\n",
       "    }\n",
       "\n",
       "    .dataframe tbody tr th {\n",
       "        vertical-align: top;\n",
       "    }\n",
       "\n",
       "    .dataframe thead th {\n",
       "        text-align: right;\n",
       "    }\n",
       "</style>\n",
       "<table border=\"1\" class=\"dataframe\">\n",
       "  <thead>\n",
       "    <tr style=\"text-align: right;\">\n",
       "      <th></th>\n",
       "      <th>Trip</th>\n",
       "      <th>Distance</th>\n",
       "      <th>Freshwater</th>\n",
       "    </tr>\n",
       "  </thead>\n",
       "  <tbody>\n",
       "    <tr>\n",
       "      <th>0</th>\n",
       "      <td>SURABAYA-BALIKPAPAN</td>\n",
       "      <td>600.00</td>\n",
       "      <td>17427.57</td>\n",
       "    </tr>\n",
       "    <tr>\n",
       "      <th>1</th>\n",
       "      <td>BALIKPAPAN-PALU</td>\n",
       "      <td>153.00</td>\n",
       "      <td>5511.14</td>\n",
       "    </tr>\n",
       "    <tr>\n",
       "      <th>2</th>\n",
       "      <td>PALU-SURABAYA</td>\n",
       "      <td>780.16</td>\n",
       "      <td>22230.39</td>\n",
       "    </tr>\n",
       "  </tbody>\n",
       "</table>\n",
       "</div>"
      ],
      "text/plain": [
       "                  Trip  Distance  Freshwater\n",
       "0  SURABAYA-BALIKPAPAN    600.00    17427.57\n",
       "1      BALIKPAPAN-PALU    153.00     5511.14\n",
       "2        PALU-SURABAYA    780.16    22230.39"
      ]
     },
     "execution_count": 162,
     "metadata": {},
     "output_type": "execute_result"
    }
   ],
   "source": [
    "df_fw = pd.DataFrame({\n",
    "    \"Trip\": trips,\n",
    "    \"Distance\": distance_numbers,\n",
    "    \"Freshwater\": fwneed,\n",
    "})\n",
    "df_fw"
   ]
  },
  {
   "cell_type": "code",
   "execution_count": 161,
   "metadata": {},
   "outputs": [
    {
     "name": "stderr",
     "output_type": "stream",
     "text": [
      "c:\\Users\\Afifudin\\anaconda3\\envs\\spil-HRIS\\Lib\\site-packages\\sklearn\\base.py:493: UserWarning: X does not have valid feature names, but StandardScaler was fitted with feature names\n",
      "  warnings.warn(\n"
     ]
    },
    {
     "data": {
      "text/plain": [
       "[17427.57, 5511.14, 22230.39]"
      ]
     },
     "execution_count": 161,
     "metadata": {},
     "output_type": "execute_result"
    }
   ],
   "source": [
    "fwneed = predict_freshwater(distance)\n",
    "fwneed"
   ]
  },
  {
   "cell_type": "code",
   "execution_count": 99,
   "metadata": {},
   "outputs": [],
   "source": [
    "import joblib\n",
    "\n",
    "model = joblib.load(\"../models/model.pkl\")\n",
    "scaler = joblib.load(\"../models/scaler.pkl\")"
   ]
  },
  {
   "cell_type": "code",
   "execution_count": 100,
   "metadata": {},
   "outputs": [
    {
     "name": "stderr",
     "output_type": "stream",
     "text": [
      "c:\\Users\\Afifudin\\anaconda3\\envs\\spil-HRIS\\Lib\\site-packages\\sklearn\\base.py:493: UserWarning: X does not have valid feature names, but StandardScaler was fitted with feature names\n",
      "  warnings.warn(\n"
     ]
    }
   ],
   "source": [
    "distance_scaled = scaler.transform(distance)"
   ]
  },
  {
   "cell_type": "code",
   "execution_count": 116,
   "metadata": {},
   "outputs": [
    {
     "data": {
      "text/plain": [
       "[17427.56807881554, 5511.143006085158, 22230.39389783157]"
      ]
     },
     "execution_count": 116,
     "metadata": {},
     "output_type": "execute_result"
    }
   ],
   "source": [
    "fw_need = []\n",
    "for item in distance_scaled:\n",
    "    fw = model.predict(item.reshape(1, -1))\n",
    "    fw_need.append(fw[0])\n",
    "\n",
    "fw_need"
   ]
  },
  {
   "cell_type": "code",
   "execution_count": 2,
   "metadata": {},
   "outputs": [
    {
     "data": {
      "text/plain": [
       "'Rp1.000.000,00'"
      ]
     },
     "execution_count": 2,
     "metadata": {},
     "output_type": "execute_result"
    }
   ],
   "source": [
    "import locale\n",
    "locale.setlocale(locale.LC_ALL, '')\n",
    "currency_string = locale.currency(1000000, grouping=True)\n",
    "currency_string"
   ]
  }
 ],
 "metadata": {
  "kernelspec": {
   "display_name": "spil-HRIS",
   "language": "python",
   "name": "python3"
  },
  "language_info": {
   "codemirror_mode": {
    "name": "ipython",
    "version": 3
   },
   "file_extension": ".py",
   "mimetype": "text/x-python",
   "name": "python",
   "nbconvert_exporter": "python",
   "pygments_lexer": "ipython3",
   "version": "3.12.3"
  }
 },
 "nbformat": 4,
 "nbformat_minor": 2
}
